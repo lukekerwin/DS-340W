{
 "cells": [
  {
   "cell_type": "code",
   "execution_count": 4,
   "metadata": {},
   "outputs": [
    {
     "name": "stdout",
     "output_type": "stream",
     "text": [
      "Existing Model Scores: \n",
      "RMSE: 436812\n",
      "R^2: 0.8367\n",
      "\n",
      "New Model w/ Position Splitting Scores: \n",
      "RMSE: 412792\n",
      "R^2: 0.8601\n",
      "\n",
      "New Model w/ Advanced Stats & Feature Engineering Scores: \n",
      "RMSE: 406113\n",
      "R^2: 0.8619\n",
      "\n"
     ]
    }
   ],
   "source": [
    "print('Existing Model Scores: \\nRMSE: 436812\\nR^2: 0.8367\\n')\n",
    "print('New Model w/ Position Splitting Scores: \\nRMSE: 412792\\nR^2: 0.8601\\n')\n",
    "print('New Model w/ Advanced Stats & Feature Engineering Scores: \\nRMSE: 406113\\nR^2: 0.8619\\n')\n"
   ]
  }
 ],
 "metadata": {
  "kernelspec": {
   "display_name": "thespreadsheet",
   "language": "python",
   "name": "python3"
  },
  "language_info": {
   "codemirror_mode": {
    "name": "ipython",
    "version": 3
   },
   "file_extension": ".py",
   "mimetype": "text/x-python",
   "name": "python",
   "nbconvert_exporter": "python",
   "pygments_lexer": "ipython3",
   "version": "3.12.0"
  }
 },
 "nbformat": 4,
 "nbformat_minor": 2
}
